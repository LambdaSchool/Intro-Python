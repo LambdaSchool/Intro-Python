{
 "cells": [
  {
   "cell_type": "code",
   "execution_count": 1,
   "metadata": {},
   "outputs": [
    {
     "name": "stdout",
     "output_type": "stream",
     "text": [
      "Hello, World!\n"
     ]
    }
   ],
   "source": [
    "print(\"Hello, World!\")"
   ]
  },
  {
   "cell_type": "code",
   "execution_count": 3,
   "metadata": {},
   "outputs": [
    {
     "name": "stdout",
     "output_type": "stream",
     "text": [
      "12\n",
      "12\n"
     ]
    }
   ],
   "source": [
    "x = 5\n",
    "y = int(\"7\")\n",
    "# Write a print statement that combines x + y into the integer value 12\n",
    "print(x + y)\n",
    "\n",
    "# Write a print statement that combines x + y into the string value 57\n",
    "print(x + y)"
   ]
  },
  {
   "cell_type": "code",
   "execution_count": 11,
   "metadata": {},
   "outputs": [
    {
     "name": "stdout",
     "output_type": "stream",
     "text": [
      "%x\n"
     ]
    }
   ],
   "source": [
    "x = 10\n",
    "y = 2.24552\n",
    "z = \"I like turtles!\"\n",
    "\n",
    "# Using the printf operator (%), print the following feeding in the values of x,\n",
    "# y, and z:\n",
    "# x is 10, y is 2.25, z is \"I like turtles!\"\n",
    "\n",
    "print ('%x')"
   ]
  },
  {
   "cell_type": "code",
   "execution_count": 4,
   "metadata": {},
   "outputs": [
    {
     "name": "stdout",
     "output_type": "stream",
     "text": [
      "12\n",
      "57\n"
     ]
    }
   ],
   "source": [
    "x = 5\n",
    "y = \"7\"\n",
    "# Write a print statement that combines x + y into the integer value 12\n",
    "print(x + int(y))\n",
    "\n",
    "# Write a print statement that combines x + y into the string value 57\n",
    "print(str(x) + y)"
   ]
  },
  {
   "cell_type": "code",
   "execution_count": 7,
   "metadata": {},
   "outputs": [
    {
     "ename": "SyntaxError",
     "evalue": "invalid syntax (<ipython-input-7-8ae43f2cb9ce>, line 1)",
     "output_type": "error",
     "traceback": [
      "\u001b[0;36m  File \u001b[0;32m\"<ipython-input-7-8ae43f2cb9ce>\"\u001b[0;36m, line \u001b[0;32m1\u001b[0m\n\u001b[0;31m    print '%(language)s has %(#)03d quote types.' %           {'language': \"Python\", \"#\": 2}\u001b[0m\n\u001b[0m                                                ^\u001b[0m\n\u001b[0;31mSyntaxError\u001b[0m\u001b[0;31m:\u001b[0m invalid syntax\n"
     ]
    }
   ],
   "source": [
    "print '%(language)s has %(#)03d quote types.' % \\\n",
    "          {'language': \"Python\", \"#\": 2}"
   ]
  },
  {
   "cell_type": "code",
   "execution_count": 13,
   "metadata": {},
   "outputs": [
    {
     "name": "stdout",
     "output_type": "stream",
     "text": [
      "x is 10\n"
     ]
    }
   ],
   "source": [
    "x = 10\n",
    "y = 2.24552\n",
    "z = \"I like turtles!\"\n",
    "\n",
    "# Using the printf operator (%), print the following feeding in the values of x,\n",
    "# y, and z:\n",
    "# x is 10, y is 2.25, z is \"I like turtles!\"\n",
    "\n",
    "print (\"x is 10\")"
   ]
  },
  {
   "cell_type": "code",
   "execution_count": 18,
   "metadata": {},
   "outputs": [
    {
     "ename": "SyntaxError",
     "evalue": "invalid syntax (<ipython-input-18-baad0b0d2411>, line 9)",
     "output_type": "error",
     "traceback": [
      "\u001b[0;36m  File \u001b[0;32m\"<ipython-input-18-baad0b0d2411>\"\u001b[0;36m, line \u001b[0;32m9\u001b[0m\n\u001b[0;31m    print (%s is 10) %x\u001b[0m\n\u001b[0m           ^\u001b[0m\n\u001b[0;31mSyntaxError\u001b[0m\u001b[0;31m:\u001b[0m invalid syntax\n"
     ]
    }
   ],
   "source": [
    "x = 10\n",
    "y = 2.24552\n",
    "z = \"I like turtles!\"\n",
    "\n",
    "# Using the printf operator (%), print the following feeding in the values of x,\n",
    "# y, and z:\n",
    "# x is 10, y is 2.25, z is \"I like turtles!\"\n",
    "\n",
    "print (%s is 10) %x\n",
    "# Use the 'format' string method to print the same thing"
   ]
  },
  {
   "cell_type": "code",
   "execution_count": 17,
   "metadata": {},
   "outputs": [
    {
     "name": "stdout",
     "output_type": "stream",
     "text": [
      "He's got %s eyes and %s hair.\n"
     ]
    },
    {
     "ename": "TypeError",
     "evalue": "unsupported operand type(s) for %: 'NoneType' and 'tuple'",
     "output_type": "error",
     "traceback": [
      "\u001b[0;31m---------------------------------------------------------------------------\u001b[0m",
      "\u001b[0;31mTypeError\u001b[0m                                 Traceback (most recent call last)",
      "\u001b[0;32m<ipython-input-17-c3efc42f79d5>\u001b[0m in \u001b[0;36m<module>\u001b[0;34m()\u001b[0m\n\u001b[1;32m      3\u001b[0m \u001b[0mmy_hair\u001b[0m \u001b[0;34m=\u001b[0m \u001b[0;34m'Brown'\u001b[0m\u001b[0;34m\u001b[0m\u001b[0m\n\u001b[1;32m      4\u001b[0m \u001b[0;34m\u001b[0m\u001b[0m\n\u001b[0;32m----> 5\u001b[0;31m \u001b[0mprint\u001b[0m \u001b[0;34m(\u001b[0m\u001b[0;34m\"He's got %s eyes and %s hair.\"\u001b[0m\u001b[0;34m)\u001b[0m \u001b[0;34m%\u001b[0m \u001b[0;34m(\u001b[0m\u001b[0mmy_eyes\u001b[0m\u001b[0;34m,\u001b[0m \u001b[0mmy_hair\u001b[0m\u001b[0;34m)\u001b[0m\u001b[0;34m\u001b[0m\u001b[0m\n\u001b[0m",
      "\u001b[0;31mTypeError\u001b[0m: unsupported operand type(s) for %: 'NoneType' and 'tuple'"
     ]
    }
   ],
   "source": [
    "my_eyes = 'Blue'\n",
    "my_teeth = 'White'\n",
    "my_hair = 'Brown'\n",
    "\n",
    "print (\"He's got %s eyes and %s hair.\") % (my_eyes, my_hair)"
   ]
  },
  {
   "cell_type": "code",
   "execution_count": 20,
   "metadata": {},
   "outputs": [
    {
     "name": "stdout",
     "output_type": "stream",
     "text": [
      "10. 2.245520 appears I like turtles! times.\n"
     ]
    }
   ],
   "source": [
    "x = 10\n",
    "y = 2.24552\n",
    "z = \"I like turtles!\"\n",
    "\n",
    "# Using the printf operator (%), print the following feeding in the values of x,\n",
    "# y, and z:\n",
    "# x is 10, y is 2.25, z is \"I like turtles!\"\n",
    "\n",
    "print(\"%d. %f appears %s times.\" % (x, y, z))\n",
    "# Use the 'format' string method to print the same thing"
   ]
  },
  {
   "cell_type": "code",
   "execution_count": 21,
   "metadata": {},
   "outputs": [
    {
     "name": "stdout",
     "output_type": "stream",
     "text": [
      " x is 10, y is 2.245520, z is I like turtles!\n"
     ]
    }
   ],
   "source": [
    "x = 10\n",
    "y = 2.24552\n",
    "z = \"I like turtles!\"\n",
    "\n",
    "# Using the printf operator (%), print the following feeding in the values of x,\n",
    "# y, and z:\n",
    "# x is 10, y is 2.25, z is \"I like turtles!\"\n",
    "\n",
    "print(\" x is %d, y is %f, z is %s\" % (x, y, z))\n",
    "# Use the 'format' string method to print the same thing"
   ]
  },
  {
   "cell_type": "code",
   "execution_count": 32,
   "metadata": {},
   "outputs": [
    {
     "name": "stdout",
     "output_type": "stream",
     "text": [
      "[1, 2, 3, 4]\n",
      "[1, 2, 3, 4, 8, 9, 10]\n",
      "[1, 2, 3, 4, 8, 99, 9, 10]\n",
      "8\n",
      "1000\n",
      "2000\n",
      "3000\n",
      "4000\n",
      "8000\n",
      "99000\n",
      "9000\n",
      "10000\n"
     ]
    }
   ],
   "source": [
    "# For the exercise, look up the methods and functions that are available for use\n",
    "# with Python lists.\n",
    "\n",
    "x = [1, 2, 3]\n",
    "y = [8, 9, 10]\n",
    "\n",
    "# For the following, DO NOT USE AN ASSIGNMENT (=).\n",
    "\n",
    "# Change x so that it is [1, 2, 3, 4]\n",
    "# [command here]\n",
    "x.append(4)\n",
    "print(x)\n",
    "\n",
    "\n",
    "\n",
    "# Using y, change x so that it is [1, 2, 3, 4, 8, 9, 10]\n",
    "# [command here]\n",
    "\n",
    "x.extend(y)\n",
    "print(x)\n",
    "# Change x so that it is [1, 2, 3, 4, 9, 10]\n",
    "# [command here]\n",
    "\n",
    "\n",
    "# Change x so that it is [1, 2, 3, 4, 9, 99, 10]\n",
    "# [command here]\n",
    "x.insert(5,99)\n",
    "print(x)\n",
    "\n",
    "# Print the length of list x\n",
    "# [command here]\n",
    "print(len(x))\n",
    "\n",
    "# Using a for loop, print all the element values multiplied by 1000\n",
    "\n",
    "for i in x:\n",
    "    print(i * 1000)"
   ]
  },
  {
   "cell_type": "code",
   "execution_count": null,
   "metadata": {},
   "outputs": [],
   "source": [
    "# Use a list comprehension to create a list containing only the _even_ elements\n",
    "# the user entered into list x.\n",
    "\n",
    "x = input(\"Enter comma-separated numbers: \").split(',')\n",
    "\n",
    "# What do you need between the square brackets to make it work?\n",
    "y = [x[i] for i in range(0,len(x)) if i%2==0 ]\n",
    "\n",
    "print(y)\n",
    "\n",
    "\n"
   ]
  },
  {
   "cell_type": "code",
   "execution_count": 4,
   "metadata": {},
   "outputs": [],
   "source": [
    "x = input(\"Enter comma-separated numbers: \").split(',')\n"
   ]
  },
  {
   "cell_type": "code",
   "execution_count": 5,
   "metadata": {},
   "outputs": [
    {
     "name": "stdout",
     "output_type": "stream",
     "text": [
      "['6', '20']\n"
     ]
    }
   ],
   "source": [
    "y = [x[i] for i in range(1,len(x)) if i%2==0 ]\n",
    "\n",
    "print(y)\n",
    "\n"
   ]
  },
  {
   "cell_type": "code",
   "execution_count": 12,
   "metadata": {},
   "outputs": [
    {
     "name": "stdout",
     "output_type": "stream",
     "text": [
      "dict_values([1, 3, 'LA1'])\n",
      "dict_values([5, 7, 'LA2'])\n",
      "dict_values([9, 1, 'LA3'])\n"
     ]
    }
   ],
   "source": [
    "# Make an array of dictionaries. Each dictionary should have keys:\n",
    "#\n",
    "# lat: the latitude\n",
    "# lon: the longitude\n",
    "# name: the waypoint name\n",
    "#\n",
    "# Make up three entries of various values.\n",
    "\n",
    "p1 = {\n",
    "    \"lat\": 1,\n",
    "    \"long\":3,\n",
    "    \"name\": \"LA1\"\n",
    "}\n",
    "\n",
    "p2 = {\n",
    "    \"lat\": 5,\n",
    "    \"long\":7,\n",
    "    \"name\": \"LA2\"\n",
    "}\n",
    "\n",
    "p3 = {\n",
    "    \"lat\": 9,\n",
    "    \"long\":1,\n",
    "    \"name\": \"LA3\"\n",
    "}\n",
    "waypoints = [ p1, p2, p3\n",
    "]\n",
    "\n",
    "for wp in waypoints:\n",
    "    print(wp.values())\n",
    "# Write a loop that prints out all the field values for all the waypoints\n",
    "\n"
   ]
  },
  {
   "cell_type": "code",
   "execution_count": null,
   "metadata": {},
   "outputs": [],
   "source": [
    "# Write a function is_even that will return true if the passed in number is even.\n",
    "\n",
    "# Read a number from the keyboard\n",
    "num = input(\"Enter a number: \")\n",
    "\n",
    "# Print out \"Even!\" if the number is even. Otherwise print \"Odd\"\n",
    "def is_even(num):\n",
    "    if int(num) % 2 is 0:\n",
    "        print(\"Even!\")\n",
    "    else:\n",
    "        print(\"Odd\")\n",
    "    \n",
    "is_even(num)"
   ]
  },
  {
   "cell_type": "code",
   "execution_count": 17,
   "metadata": {},
   "outputs": [
    {
     "name": "stdout",
     "output_type": "stream",
     "text": [
      "Odd\n"
     ]
    }
   ],
   "source": [
    "# Write a function is_even that will return true if the passed in number is even.\n",
    "\n",
    "# Read a number from the keyboard\n",
    "num = input(\"Enter a number: \")\n",
    "\n",
    "# Print out \"Even!\" if the number is even. Otherwise print \"Odd\"\n",
    "def is_even(num):\n",
    "    if int(num) % 2 is 0:\n",
    "        print(\"Even!\")\n",
    "    else:\n",
    "        print(\"Odd\")\n",
    "    \n",
    "is_even(num)"
   ]
  },
  {
   "cell_type": "code",
   "execution_count": 18,
   "metadata": {},
   "outputs": [
    {
     "name": "stdout",
     "output_type": "stream",
     "text": [
      "['/usr/local/lib/python3.7/site-packages/ipykernel_launcher.py', '-f', '/Users/samar/Library/Jupyter/runtime/kernel-5737a93d-efe6-4ccd-8819-0e1afb0b1153.json']\n"
     ]
    }
   ],
   "source": [
    "# Use the 'calendar' module to draw calendars to the console\n",
    "# https://docs.python.org/3.6/library/calendar.html\n",
    "#\n",
    "# Use the sys module to look for command line arguments in the `argv` list\n",
    "# variable.\n",
    "#\n",
    "# If the user specifies two command line arguments, month and year, then draw\n",
    "# the calendar for that month.\n",
    "\n",
    "# Stretch goal: if the user doesn't specify anything on the command line, show\n",
    "# the calendar for the current month. See the 'datetime' module.\n",
    "\n",
    "# Hint: this should be about 15 lines of code. No loops are required. Read the\n",
    "# docs for the calendar module closely.\n",
    "\n",
    "import sys\n",
    "\n",
    "print(sys.argv)"
   ]
  },
  {
   "cell_type": "code",
   "execution_count": 6,
   "metadata": {},
   "outputs": [
    {
     "name": "stdout",
     "output_type": "stream",
     "text": [
      "2018-07-10\n"
     ]
    },
    {
     "data": {
      "text/plain": [
       "'    January 2018\\nMo Tu We Th Fr Sa Su\\n 1  2  3  4  5  6  7\\n 8  9 10 11 12 13 14\\n15 16 17 18 19 20 21\\n22 23 24 25 26 27 28\\n29 30 31\\n'"
      ]
     },
     "execution_count": 6,
     "metadata": {},
     "output_type": "execute_result"
    }
   ],
   "source": [
    "import calendar\n",
    "from datetime import date\n",
    "today = date.today()\n",
    "print(today)\n",
    "today.isocalendar()\n",
    "cc = calendar.TextCalendar(firstweekday=0)\n",
    "cc.formatmonth(2018, 1, w=0, l=0)"
   ]
  },
  {
   "cell_type": "code",
   "execution_count": 17,
   "metadata": {},
   "outputs": [],
   "source": [
    "# Make a class LatLon that can be passed parameters `lat` and `lon` to the\n",
    "# constructor\n",
    "\n",
    "class LatLon:\n",
    "    def __init__(self, lat, lon):\n",
    "        self.lat = lat\n",
    "        self.lon = lon\n",
    "\n",
    "# Make a class Waypoint that can be passed parameters `name`, `lat`, and `lon` to the\n",
    "# constructor. It should inherit from LatLon.\n",
    "\n",
    "class Waypoint(LatLon):\n",
    "    def __init__(self, lat, lon, name):\n",
    "        LatLon.__init__(self, lat, lon)\n",
    "        self.name = name\n",
    "\n",
    "    def Name():\n",
    "        return self.name\n",
    "\n",
    "# Make a class Geocache that can be passed parameters `name`, `difficulty`,\n",
    "# `size`, `lat`, and `lon` to the constructor. What should it inherit from?\n",
    "\n",
    "class Geocache(Waypoint):\n",
    "    def __init__(self, lat, lon, name, difficulty, size):\n",
    "        Waypoint.__init__(self, lat, lon, name)\n",
    "        self. difficulty = difficulty\n",
    "        self. size = size\n",
    "\n",
    "\n"
   ]
  },
  {
   "cell_type": "code",
   "execution_count": 18,
   "metadata": {},
   "outputs": [],
   "source": [
    "w = Waypoint(\"Catacombs\", 41.70505, -121.51521)"
   ]
  },
  {
   "cell_type": "code",
   "execution_count": 21,
   "metadata": {},
   "outputs": [
    {
     "name": "stdout",
     "output_type": "stream",
     "text": [
      "<__main__.Waypoint object at 0x103963160>\n"
     ]
    }
   ],
   "source": [
    "# Make a new waypoint \"Catacombs\", 41.70505, -121.51521\n",
    "\n",
    "w = Waypoint(\"Catacombs\", 41.70505, -121.51521)\n",
    "\n",
    "# Print it\n",
    "#\n",
    "# Without changing the following line, how can you make it print into something\n",
    "# more human-readable?\n",
    "print(w)\n",
    "\n",
    "\n"
   ]
  },
  {
   "cell_type": "code",
   "execution_count": null,
   "metadata": {},
   "outputs": [],
   "source": []
  },
  {
   "cell_type": "code",
   "execution_count": null,
   "metadata": {},
   "outputs": [],
   "source": []
  }
 ],
 "metadata": {
  "kernelspec": {
   "display_name": "Python 3",
   "language": "python",
   "name": "python3"
  },
  "language_info": {
   "codemirror_mode": {
    "name": "ipython",
    "version": 3
   },
   "file_extension": ".py",
   "mimetype": "text/x-python",
   "name": "python",
   "nbconvert_exporter": "python",
   "pygments_lexer": "ipython3",
   "version": "3.7.0"
  }
 },
 "nbformat": 4,
 "nbformat_minor": 2
}
