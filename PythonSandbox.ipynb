{
 "cells": [
  {
   "cell_type": "code",
   "execution_count": 1,
   "metadata": {},
   "outputs": [
    {
     "ename": "NameError",
     "evalue": "name 'key' is not defined",
     "output_type": "error",
     "traceback": [
      "\u001b[0;31m---------------------------------------------------------------------------\u001b[0m",
      "\u001b[0;31mNameError\u001b[0m                                 Traceback (most recent call last)",
      "\u001b[0;32m<ipython-input-1-92464e0c7edb>\u001b[0m in \u001b[0;36m<module>\u001b[0;34m\u001b[0m\n\u001b[1;32m      4\u001b[0m }\n\u001b[1;32m      5\u001b[0m \u001b[0;34m\u001b[0m\u001b[0m\n\u001b[0;32m----> 6\u001b[0;31m \u001b[0md\u001b[0m\u001b[0;34m[\u001b[0m\u001b[0mkey\u001b[0m\u001b[0;34m]\u001b[0m\u001b[0;34m\u001b[0m\u001b[0;34m\u001b[0m\u001b[0m\n\u001b[0m",
      "\u001b[0;31mNameError\u001b[0m: name 'key' is not defined"
     ]
    }
   ],
   "source": []
  },
  {
   "cell_type": "code",
   "execution_count": 4,
   "metadata": {},
   "outputs": [
    {
     "name": "stdout",
     "output_type": "stream",
     "text": [
      "key: a, value: 12\n",
      "key: b, value: 30\n"
     ]
    }
   ],
   "source": [
    "def f4(**kwargs):  \n",
    "    for key, value in kwargs.items(): \n",
    "        print(\"key: %s, value: %s\" %(key, value)) \n",
    "\n",
    "\n",
    "\n",
    "f4(a=12, b=30)"
   ]
  },
  {
   "cell_type": "code",
   "execution_count": 12,
   "metadata": {},
   "outputs": [
    {
     "name": "stdout",
     "output_type": "stream",
     "text": [
      "key:monster, value:goblin\n",
      "key:hp, value:3\n"
     ]
    }
   ],
   "source": [
    "d = {\n",
    "    \"monster\": \"goblin\",\n",
    "    \"hp\": 3\n",
    "}\n",
    "def f4(d):\n",
    "    for key in d:\n",
    "        print(\"key:{}, value:{}\".format(key, d[key]))\n",
    "\n",
    "# def f4(**kwargs):  \n",
    "#     for key, value in kwargs.items(): \n",
    "#         print(\"key: %s, value: %s\" %(key, value)) \n",
    "        \n",
    "f4(d)"
   ]
  },
  {
   "cell_type": "code",
   "execution_count": 13,
   "metadata": {},
   "outputs": [
    {
     "name": "stdout",
     "output_type": "stream",
     "text": [
      " 42\n"
     ]
    }
   ],
   "source": [
    "print(\"% d\"% (42))"
   ]
  },
  {
   "cell_type": "code",
   "execution_count": 16,
   "metadata": {},
   "outputs": [
    {
     "name": "stdout",
     "output_type": "stream",
     "text": [
      "x is  a d\n"
     ]
    }
   ],
   "source": [
    "x = 10\n",
    "y = 2.24552\n",
    "z = \"I like turtles!\"\n",
    "\n",
    "print(\"x is % x d\" % (x))"
   ]
  },
  {
   "cell_type": "code",
   "execution_count": 26,
   "metadata": {},
   "outputs": [
    {
     "name": "stdout",
     "output_type": "stream",
     "text": [
      "x is I like turtles!\n"
     ]
    }
   ],
   "source": [
    "print(\"x is %s\" % (z))\n"
   ]
  },
  {
   "cell_type": "code",
   "execution_count": 27,
   "metadata": {},
   "outputs": [
    {
     "name": "stdout",
     "output_type": "stream",
     "text": [
      "x is 10, y is 2.25, z is I like turtles! \n"
     ]
    }
   ],
   "source": [
    "print(\"x is %0d, y is %4.2f, z is %s \" % (x,y,z))"
   ]
  },
  {
   "cell_type": "code",
   "execution_count": 39,
   "metadata": {},
   "outputs": [
    {
     "name": "stdout",
     "output_type": "stream",
     "text": [
      "x is 10, y is 2.25 z is I like turtles!\n"
     ]
    }
   ],
   "source": [
    "print(\"x is {0:d}, y is {1:.2f} z is {2:s}\" .format(x, y, z))"
   ]
  },
  {
   "cell_type": "code",
   "execution_count": null,
   "metadata": {},
   "outputs": [],
   "source": []
  }
 ],
 "metadata": {
  "kernelspec": {
   "display_name": "Python 3",
   "language": "python",
   "name": "python3"
  },
  "language_info": {
   "codemirror_mode": {
    "name": "ipython",
    "version": 3
   },
   "file_extension": ".py",
   "mimetype": "text/x-python",
   "name": "python",
   "nbconvert_exporter": "python",
   "pygments_lexer": "ipython3",
   "version": "3.7.4"
  }
 },
 "nbformat": 4,
 "nbformat_minor": 4
}
