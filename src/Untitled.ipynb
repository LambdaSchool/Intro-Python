{
 "cells": [
  {
   "cell_type": "code",
   "execution_count": 3,
   "metadata": {},
   "outputs": [],
   "source": [
    "rooms = {\n",
    "    \"outside\": {\n",
    "        \"name\": \"Outside Cave Entrance\",\n",
    "        \"description\": \"North of you, the cave mouth beckons.\",\n",
    "        \"n_to\": \"foyer\",\n",
    "    },\n",
    "\n",
    "    \"foyer\": {\n",
    "        \"name\": \"Foyer\",\n",
    "        \"description\": \"Dim light filters in from the south. Dusty passages run north and east.\",\n",
    "        \"n_to\": \"overlook\",\n",
    "        \"s_to\": \"outside\",\n",
    "        \"e_to\": \"narrow\",\n",
    "    },\n",
    "\n",
    "    \"overlook\": {\n",
    "        \"name\": \"Grand Overlook\",\n",
    "        \"description\": \"\"\"A steep cliff appears before you, falling\n",
    "into the darkness. Ahead to the north, a light flickers in\n",
    "the distance, but %tbhere is no way across the chasm.\"\"\",\n",
    "        \"s_to\": \"foyer\",\n",
    "    },\n",
    "\n",
    "    \"narrow\": {\n",
    "        \"name\": \"Narrow Passage\",\n",
    "        \"description\": \"The narrow passage bends here from west to north. The smell of gold permeates the air.\", \n",
    "        \"w_to\": \"foyer\",\n",
    "        \"n_to\": \"treasure\",\n",
    "    },\n",
    "\n",
    "    \"treasure\": {\n",
    "        \"name\": \"Treasure Chamber\",\n",
    "        \"description\": \"\"\"You've found the long-lost treasure\n",
    "chamber. Sadly, it has already been completely emptied by\n",
    "earlier adventurers. The only exit is to the south.\"\"\",\n",
    "        \"s_to\": \"narrow\",\n",
    "    },\n",
    "\n",
    "}"
   ]
  },
  {
   "cell_type": "code",
   "execution_count": 6,
   "metadata": {},
   "outputs": [
    {
     "data": {
      "text/plain": [
       "{'name': 'Outside Cave Entrance',\n",
       " 'description': 'North of you, the cave mouth beckons.',\n",
       " 'n_to': 'foyer'}"
      ]
     },
     "execution_count": 6,
     "metadata": {},
     "output_type": "execute_result"
    }
   ],
   "source": [
    "rooms[\"outside\"]"
   ]
  },
  {
   "cell_type": "code",
   "execution_count": 8,
   "metadata": {},
   "outputs": [],
   "source": [
    "class player:\n",
    "    def __init__(self,currentRoom):\n",
    "        self.currentRoom = currentRoom"
   ]
  },
  {
   "cell_type": "code",
   "execution_count": 9,
   "metadata": {},
   "outputs": [],
   "source": [
    "samar = player(\"outside\")"
   ]
  },
  {
   "cell_type": "code",
   "execution_count": 10,
   "metadata": {},
   "outputs": [
    {
     "name": "stdout",
     "output_type": "stream",
     "text": [
      "outside\n"
     ]
    }
   ],
   "source": [
    "print(samar.currentRoom)"
   ]
  },
  {
   "cell_type": "code",
   "execution_count": 12,
   "metadata": {},
   "outputs": [
    {
     "name": "stdout",
     "output_type": "stream",
     "text": [
      "{'name': 'Outside Cave Entrance', 'description': 'North of you, the cave mouth beckons.', 'n_to': 'foyer'}\n"
     ]
    }
   ],
   "source": [
    "print(rooms[samar.currentRoom])"
   ]
  },
  {
   "cell_type": "code",
   "execution_count": 13,
   "metadata": {},
   "outputs": [],
   "source": [
    "room = rooms[samar.currentRoom]"
   ]
  },
  {
   "cell_type": "code",
   "execution_count": 19,
   "metadata": {},
   "outputs": [
    {
     "data": {
      "text/plain": [
       "{'name': 'Outside Cave Entrance',\n",
       " 'description': 'North of you, the cave mouth beckons.',\n",
       " 'n_to': 'foyer'}"
      ]
     },
     "execution_count": 19,
     "metadata": {},
     "output_type": "execute_result"
    }
   ],
   "source": [
    "room"
   ]
  },
  {
   "cell_type": "code",
   "execution_count": 15,
   "metadata": {},
   "outputs": [
    {
     "data": {
      "text/plain": [
       "'North of you, the cave mouth beckons.'"
      ]
     },
     "execution_count": 15,
     "metadata": {},
     "output_type": "execute_result"
    }
   ],
   "source": [
    "room[\"description\"]"
   ]
  },
  {
   "cell_type": "code",
   "execution_count": 18,
   "metadata": {},
   "outputs": [],
   "source": [
    "dir = input(\"Please give directions beep-beep - 'n' for North, 's' for South, 'w' for West, 'e' for East or press 'q' to quit: \")"
   ]
  },
  {
   "cell_type": "code",
   "execution_count": 34,
   "metadata": {},
   "outputs": [],
   "source": [
    "userInput = input(\"Please give directions beep-beep - 'n' for North, 's' for South, 'w' for West, 'e' for East or press 'q' to quit: \")"
   ]
  },
  {
   "cell_type": "code",
   "execution_count": 50,
   "metadata": {},
   "outputs": [],
   "source": [
    "userInput = 'n'"
   ]
  },
  {
   "cell_type": "code",
   "execution_count": 36,
   "metadata": {},
   "outputs": [],
   "source": [
    "if userInput == 'n':\n",
    "        samar = player(room[\"n_to\"])"
   ]
  },
  {
   "cell_type": "code",
   "execution_count": 37,
   "metadata": {},
   "outputs": [
    {
     "name": "stdout",
     "output_type": "stream",
     "text": [
      "foyer\n"
     ]
    }
   ],
   "source": [
    "print(samar.currentRoom)"
   ]
  },
  {
   "cell_type": "code",
   "execution_count": 51,
   "metadata": {},
   "outputs": [],
   "source": [
    "if userInput not in ['s', 'n']:\n",
    "        print(\"   you dead mate!   \")"
   ]
  },
  {
   "cell_type": "code",
   "execution_count": null,
   "metadata": {},
   "outputs": [],
   "source": []
  }
 ],
 "metadata": {
  "kernelspec": {
   "display_name": "Python 3",
   "language": "python",
   "name": "python3"
  },
  "language_info": {
   "codemirror_mode": {
    "name": "ipython",
    "version": 3
   },
   "file_extension": ".py",
   "mimetype": "text/x-python",
   "name": "python",
   "nbconvert_exporter": "python",
   "pygments_lexer": "ipython3",
   "version": "3.7.0"
  }
 },
 "nbformat": 4,
 "nbformat_minor": 2
}
